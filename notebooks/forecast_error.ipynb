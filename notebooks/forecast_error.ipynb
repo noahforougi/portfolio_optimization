{
 "cells": [
  {
   "cell_type": "code",
   "execution_count": null,
   "metadata": {},
   "outputs": [],
   "source": [
    "import pandas as pd\n",
    "import utils, config\n",
    "from ml import preprocess, train_expected_returns\n",
    "from importlib import reload\n",
    "\n",
    "reload(preprocess)"
   ]
  },
  {
   "cell_type": "code",
   "execution_count": null,
   "metadata": {},
   "outputs": [],
   "source": [
    "files = utils.list_s3_files(prefix=\"clean/\", bucket_name=config.BUCKET_NAME)\n",
    "f = files[0]\n",
    "df = utils.read_s3_file(f)\n",
    "df = preprocess.prepare_training_data(df)"
   ]
  },
  {
   "cell_type": "code",
   "execution_count": null,
   "metadata": {},
   "outputs": [],
   "source": [
    "model_dict = train_expected_returns.train_expected_returns(df)"
   ]
  },
  {
   "cell_type": "code",
   "execution_count": null,
   "metadata": {},
   "outputs": [],
   "source": [
    "df.head()"
   ]
  },
  {
   "cell_type": "code",
   "execution_count": null,
   "metadata": {},
   "outputs": [],
   "source": [
    "preprocess.calculate_momentum(df).reset_index().set_index(\"date\")"
   ]
  },
  {
   "cell_type": "code",
   "execution_count": null,
   "metadata": {},
   "outputs": [],
   "source": [
    "def calculate_momentum(df, periods=[3, 6, 12]):\n",
    "    df = df.copy()\n",
    "    for period in periods:\n",
    "        df = df.reset_index()\n",
    "        momentum_feature = (\n",
    "            df.groupby(\"ticker\")[\"return_1m\"]\n",
    "            .rolling(window=period)\n",
    "            .apply(lambda x: (x + 1).prod() - 1)\n",
    "        )\n",
    "        df = df.set_index([\"date\", \"ticker\"])\n",
    "        df[f\"momentum_{period}m\"] = momentum_feature.values\n",
    "\n",
    "    return df"
   ]
  },
  {
   "cell_type": "code",
   "execution_count": null,
   "metadata": {},
   "outputs": [],
   "source": [
    "raw = calculate_momentum(raw)"
   ]
  },
  {
   "cell_type": "code",
   "execution_count": null,
   "metadata": {},
   "outputs": [],
   "source": [
    "raw"
   ]
  },
  {
   "cell_type": "code",
   "execution_count": null,
   "metadata": {},
   "outputs": [],
   "source": [
    "df = (\n",
    "    utils.read_s3_file(\"output/er_forecasts_momentum.csv\")\n",
    "    .set_index(\"date\")\n",
    "    .drop(columns=[\"portfolio\"])\n",
    ")"
   ]
  },
  {
   "cell_type": "code",
   "execution_count": null,
   "metadata": {},
   "outputs": [],
   "source": [
    "(df.drop(columns=[\"true_value\"]).sub(df[\"true_value\"], axis=0) ** 2).mean()"
   ]
  }
 ],
 "metadata": {
  "kernelspec": {
   "display_name": "portfolio-optimization-rNolXyGd-py3.10",
   "language": "python",
   "name": "python3"
  },
  "language_info": {
   "codemirror_mode": {
    "name": "ipython",
    "version": 3
   },
   "file_extension": ".py",
   "mimetype": "text/x-python",
   "name": "python",
   "nbconvert_exporter": "python",
   "pygments_lexer": "ipython3",
   "version": "3.10.14"
  }
 },
 "nbformat": 4,
 "nbformat_minor": 2
}
