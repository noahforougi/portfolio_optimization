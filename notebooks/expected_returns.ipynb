{
 "cells": [
  {
   "cell_type": "code",
   "execution_count": null,
   "metadata": {},
   "outputs": [],
   "source": [
    "import pandas as pd\n",
    "import joblib\n",
    "from ml import preprocess, train_expected_returns, predict_expected_returns\n",
    "import os\n",
    "from tqdm import tqdm\n",
    "from importlib import reload\n",
    "import config\n",
    "\n",
    "reload(preprocess)\n",
    "reload(train_expected_returns)"
   ]
  },
  {
   "cell_type": "markdown",
   "metadata": {},
   "source": [
    "## 1. TRAIN ALL MODELS FOR EXPECTED RETURNS"
   ]
  },
  {
   "cell_type": "code",
   "execution_count": null,
   "metadata": {},
   "outputs": [],
   "source": [
    "files = os.listdir(\"/Users/noahforougi/research/portfolio_optimization/data/clean\")\n",
    "for f in tqdm(files):\n",
    "    df = pd.read_csv(\n",
    "        f\"/Users/noahforougi/research/portfolio_optimization/data/clean/{f}\"\n",
    "    )\n",
    "    df = preprocess.prepare_training_data(df)\n",
    "    model_dict = train_expected_returns.train_expected_returns(df)\n",
    "    clean_file = f.replace(\".csv\", \"\")\n",
    "    joblib.dump(model_dict, f\"return_models/{clean_file}_er_models.pkl\")"
   ]
  },
  {
   "cell_type": "markdown",
   "metadata": {},
   "source": [
    "## 2. PREDICTIONS FOR EXPECTED RETURNS"
   ]
  },
  {
   "cell_type": "code",
   "execution_count": null,
   "metadata": {},
   "outputs": [],
   "source": [
    "dates = pd.date_range(config.START_DATE, config.END_DATE, freq=\"ME\")"
   ]
  },
  {
   "cell_type": "code",
   "execution_count": null,
   "metadata": {},
   "outputs": [],
   "source": [
    "dates = pd.date_range(config.START_DATE, config.END_DATE, freq=\"ME\")\n",
    "for f in tqdm(files):\n",
    "    df = pd.read_csv(\n",
    "        f\"/Users/noahforougi/research/portfolio_optimization/data/clean/{f}\"\n",
    "    )\n",
    "    df = preprocess.prepare_training_data(df)\n",
    "    results = predict_expected_returns.expected_return_forecasts(\n",
    "        df, model_dict=model_dict, dates=dates\n",
    "    )\n",
    "    results.to_csv(\n",
    "        f\"/Users/noahforougi/research/portfolio_optimization/data/output/er_forecasts_{f}\",\n",
    "        index=False,\n",
    "    )"
   ]
  }
 ],
 "metadata": {
  "kernelspec": {
   "display_name": "portfolio-optimization-_HjJy9gg-py3.10",
   "language": "python",
   "name": "python3"
  },
  "language_info": {
   "codemirror_mode": {
    "name": "ipython",
    "version": 3
   },
   "file_extension": ".py",
   "mimetype": "text/x-python",
   "name": "python",
   "nbconvert_exporter": "python",
   "pygments_lexer": "ipython3",
   "version": "3.10.10"
  }
 },
 "nbformat": 4,
 "nbformat_minor": 2
}
