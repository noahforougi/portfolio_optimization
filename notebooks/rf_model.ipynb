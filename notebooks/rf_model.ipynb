{
 "cells": [
  {
   "cell_type": "code",
   "execution_count": 111,
   "metadata": {},
   "outputs": [
    {
     "data": {
      "text/plain": [
       "<module 'ml.preprocess' from '/Users/noahforougi/research/portfolio_optimization/ml/preprocess.py'>"
      ]
     },
     "execution_count": 111,
     "metadata": {},
     "output_type": "execute_result"
    }
   ],
   "source": [
    "import pandas as pd\n",
    "from ml import preprocess\n",
    "from importlib import reload\n",
    "from sklearn.ensemble import RandomForestRegressor\n",
    "from sklearn.metrics import mean_squared_error\n",
    "from tqdm import tqdm\n",
    "\n",
    "reload(preprocess)"
   ]
  },
  {
   "cell_type": "markdown",
   "metadata": {},
   "source": [
    "Create monthly dataset"
   ]
  },
  {
   "cell_type": "code",
   "execution_count": 112,
   "metadata": {},
   "outputs": [],
   "source": [
    "# Preprocess data and construct monthly dataset\n",
    "returns = preprocess.create_returns_df(\"../data/prices.csv\")\n",
    "df = preprocess.calculate_monthly_features(returns)\n",
    "df = preprocess.calculate_momentum_features(df)\n",
    "df = preprocess.calculate_moving_average_features(df)\n",
    "df[\"date\"] = pd.to_datetime(\n",
    "    df[\"month\"].dt.to_timestamp(), format=\"%Y-%m\"\n",
    ") + pd.offsets.MonthEnd(0)\n",
    "df.drop(columns=[\"month\"], inplace=True)\n",
    "df = preprocess.z_score_by_period(df)\n",
    "df[\"forward_return_1m\"] = df.groupby(\"ticker\")[\"monthly_return\"].shift(-1)\n",
    "df.set_index(\"date\", inplace=True)"
   ]
  },
  {
   "cell_type": "markdown",
   "metadata": {},
   "source": [
    "1. Create Individual RF models "
   ]
  },
  {
   "cell_type": "code",
   "execution_count": null,
   "metadata": {},
   "outputs": [],
   "source": [
    "def train_random_forest(train_df):\n",
    "    \"\"\"Train a random forest regressor on the training data.\"\"\"\n",
    "    X_train = train_df.drop(columns=[\"forward_return_1m\", \"ticker\"])\n",
    "    y_train = train_df[\"forward_return_1m\"]\n",
    "    rf = RandomForestRegressor(n_estimators=100, random_state=42)\n",
    "    rf.fit(X_train, y_train)\n",
    "    return rf\n",
    "\n",
    "\n",
    "def predict_with_model(model, test_df):\n",
    "    \"\"\"Predict with the trained model.\"\"\"\n",
    "    X_test = test_df.drop(columns=[\"forward_return_1m\", \"ticker\"])\n",
    "    return model.predict(X_test)\n",
    "\n",
    "\n",
    "def split_data(df, ticker, start_date, end_date):\n",
    "    \"\"\"Split the dataframe into train and test based on date range for a specific ticker.\"\"\"\n",
    "    ticker_df = df[df[\"ticker\"] == ticker]\n",
    "    train_df = ticker_df[(ticker_df.index >= start_date) & (ticker_df.index < end_date)]\n",
    "    test_df = ticker_df[ticker_df.index >= end_date]\n",
    "    return train_df, test_df\n",
    "\n",
    "\n",
    "def run_individual_models(df):\n",
    "    \"\"\"Run individual models for each stock to predict expected returns.\"\"\"\n",
    "    current_date = df.index.min()\n",
    "    initial_end_date = current_date + pd.DateOffset(years=5)\n",
    "    prediction_end_date = initial_end_date + pd.DateOffset(years=2)\n",
    "    tickers = df[\"ticker\"].unique()\n",
    "\n",
    "    all_predictions = []\n",
    "\n",
    "    for ticker in tqdm(tickers):\n",
    "        # Initial training and predictions for each ticker\n",
    "        train_df, test_df = split_data(df, ticker, current_date, initial_end_date)\n",
    "        if len(train_df) > 0:\n",
    "            rf_model = train_random_forest(train_df)\n",
    "\n",
    "            # Monthly predictions for the next two years\n",
    "            for month_end in tqdm(\n",
    "                pd.date_range(\n",
    "                    start=initial_end_date, end=prediction_end_date, freq=\"ME\"\n",
    "                )\n",
    "            ):\n",
    "                monthly_test_df = test_df[\n",
    "                    (test_df.index > initial_end_date) & (test_df.index <= month_end)\n",
    "                ].copy()\n",
    "                if not monthly_test_df.empty:\n",
    "                    monthly_test_df.loc[:, \"predicted_return\"] = predict_with_model(\n",
    "                        rf_model, monthly_test_df\n",
    "                    )\n",
    "                    all_predictions.append(monthly_test_df)\n",
    "\n",
    "    all_predictions_df = pd.concat(all_predictions)\n",
    "    return all_predictions_df\n",
    "\n",
    "\n",
    "# Run the individual models and get predictions\n",
    "all_predictions_df = (\n",
    "    run_individual_models(df).sort_values([\"date\", \"ticker\"]).drop_duplicates()\n",
    ")"
   ]
  },
  {
   "cell_type": "code",
   "execution_count": null,
   "metadata": {},
   "outputs": [],
   "source": [
    "historical_avg_predictions = (\n",
    "    df.groupby(\"ticker\", as_index=False)[\"monthly_return\"]\n",
    "    .rolling(window=24, min_periods=1)\n",
    "    .mean()\n",
    "    .rename(columns={\"monthly_return\": \"historical_avg_prediction\"})\n",
    ")\n",
    "all_predictions_df = all_predictions_df.merge(\n",
    "    historical_avg_predictions, on=[\"date\", \"ticker\"], how=\"inner\"\n",
    ")"
   ]
  },
  {
   "cell_type": "code",
   "execution_count": null,
   "metadata": {},
   "outputs": [],
   "source": [
    "msfe_rf = mean_squared_error(\n",
    "    all_predictions_df[\"forward_return_1m\"], all_predictions_df[\"predicted_return\"]\n",
    ")\n",
    "print(f\"MSFE for Random Forest predictions: {msfe_rf}\")\n",
    "\n",
    "msfe_rf = mean_squared_error(\n",
    "    all_predictions_df[\"forward_return_1m\"],\n",
    "    all_predictions_df[\"historical_avg_prediction\"],\n",
    ")\n",
    "print(f\"MSFE for Historical Avg predictions: {msfe_rf}\")"
   ]
  },
  {
   "cell_type": "markdown",
   "metadata": {},
   "source": [
    "To Do \n",
    "- Create model during training period Y1/Y2\n",
    "- Run model from Y3/Y4 to predict 1M forward returns\n",
    "- Calculate MSFE for each month for Random Forest Regression \n",
    "- Calculate historical average over 24M lookback period \n",
    "- Calculate MSFE for eahc month using historical average over 24M lookback period \n",
    "\n",
    "RF Model Improvements \n",
    "- Z-score for feature construction and for returns? \n",
    "- Read literature on what features should be included \n",
    "- Add in volume data\n",
    "- Hyperparameter tuning \n",
    "- Expand dataset assets\n",
    "- Fundamental data\n",
    "- Test out version of training individual models \n"
   ]
  }
 ],
 "metadata": {
  "kernelspec": {
   "display_name": "portfolio-optimization-_HjJy9gg-py3.10",
   "language": "python",
   "name": "python3"
  },
  "language_info": {
   "codemirror_mode": {
    "name": "ipython",
    "version": 3
   },
   "file_extension": ".py",
   "mimetype": "text/x-python",
   "name": "python",
   "nbconvert_exporter": "python",
   "pygments_lexer": "ipython3",
   "version": "3.10.10"
  }
 },
 "nbformat": 4,
 "nbformat_minor": 2
}
