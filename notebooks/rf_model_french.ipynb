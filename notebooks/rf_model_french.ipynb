{
 "cells": [
  {
   "cell_type": "code",
   "execution_count": 10,
   "metadata": {},
   "outputs": [],
   "source": [
    "import pandas as pd\n",
    "from ml import preprocess\n",
    "from importlib import reload\n",
    "from sklearn.ensemble import RandomForestRegressor\n",
    "from sklearn.metrics import mean_squared_error\n",
    "\n",
    "reload(preprocess)\n",
    "\n",
    "INPUT_FEATURES = [\n",
    "    \"return_1m\",\n",
    "    \"avg_daily_return\",\n",
    "    \"stddev_return\",\n",
    "    \"return_1m_lag1\",\n",
    "    \"return_1m_lag2\",\n",
    "    \"return_1m_lag3\",\n",
    "    \"return_1m_lag4\",\n",
    "    \"return_1m_lag5\",\n",
    "    \"return_1m_lag6\",\n",
    "    \"return_1m_lag7\",\n",
    "    \"return_1m_lag8\",\n",
    "    \"return_1m_lag9\",\n",
    "    \"return_1m_lag10\",\n",
    "    \"return_1m_lag11\",\n",
    "    \"return_1m_lag12\",\n",
    "]\n",
    "LABEL = [\"return_1m_forward\"]\n",
    "SIMPLE_PREDICTION = [\"return_r24m\"]\n",
    "DUMMYS = [\n",
    "    \"ticker_dec_3\",\n",
    "    \"ticker_dec_4\",\n",
    "    \"ticker_dec_5\",\n",
    "    \"ticker_dec_6\",\n",
    "    \"ticker_dec_7\",\n",
    "    \"ticker_dec_8\",\n",
    "    \"ticker_dec_9\",\n",
    "    \"ticker_hi_10\",\n",
    "    \"ticker_lo_10\",\n",
    "]\n",
    "\n",
    "TRAINING_YEARS = 20\n",
    "START_YEAR = 2000\n",
    "END_YEAR = 2012"
   ]
  },
  {
   "cell_type": "code",
   "execution_count": 11,
   "metadata": {},
   "outputs": [],
   "source": [
    "df = pd.read_csv(\"../data/clean/Portfolios_Formed_on_ME_daily.csv\")\n",
    "df = preprocess.daily_to_monthly(df)\n",
    "df = preprocess.add_lags(df)\n",
    "df = preprocess.add_label(df)\n",
    "df = preprocess.add_simple_prediction(df)\n",
    "df = preprocess.add_dummy_variables(df, [\"ticker\"])"
   ]
  },
  {
   "cell_type": "code",
   "execution_count": 12,
   "metadata": {},
   "outputs": [
    {
     "name": "stdout",
     "output_type": "stream",
     "text": [
      "Year: 2000\n",
      "Mean Squared Error (RF): 0.007070990392154223\n",
      "Mean Squared Error (Simple): 0.007826658062175106\n",
      "Year: 2001\n",
      "Mean Squared Error (RF): 0.005591709699548211\n",
      "Mean Squared Error (Simple): 0.00462151223678867\n",
      "Year: 2002\n",
      "Mean Squared Error (RF): 0.005523184607912163\n",
      "Mean Squared Error (Simple): 0.004243497132294155\n",
      "Year: 2003\n",
      "Mean Squared Error (RF): 0.0036262050290953324\n",
      "Mean Squared Error (Simple): 0.002815531679052659\n",
      "Year: 2004\n",
      "Mean Squared Error (RF): 0.001428023602353583\n",
      "Mean Squared Error (Simple): 0.0015778449039521474\n",
      "Year: 2005\n",
      "Mean Squared Error (RF): 0.0016734692765780124\n",
      "Mean Squared Error (Simple): 0.001642218757539872\n",
      "Year: 2006\n",
      "Mean Squared Error (RF): 0.0011238227391418374\n",
      "Mean Squared Error (Simple): 0.0007668225673857762\n",
      "Year: 2007\n",
      "Mean Squared Error (RF): 0.0021937537597467973\n",
      "Mean Squared Error (Simple): 0.0015252567203426254\n",
      "Year: 2008\n",
      "Mean Squared Error (RF): 0.009359891681197793\n",
      "Mean Squared Error (Simple): 0.0070756033047479055\n",
      "Year: 2009\n",
      "Mean Squared Error (RF): 0.007579534831136506\n",
      "Mean Squared Error (Simple): 0.007451298103657076\n",
      "Year: 2010\n",
      "Mean Squared Error (RF): 0.004461986139234692\n",
      "Mean Squared Error (Simple): 0.0044048162101723316\n",
      "Year: 2011\n",
      "Mean Squared Error (RF): 0.0037161459520980334\n",
      "Mean Squared Error (Simple): 0.004506962480732986\n",
      "Year: 2012\n",
      "Mean Squared Error (RF): 0.002073989404639496\n",
      "Mean Squared Error (Simple): 0.001284369362806534\n"
     ]
    }
   ],
   "source": [
    "results = []\n",
    "\n",
    "for year in range(START_YEAR, END_YEAR + 1):\n",
    "    TRAINING_START = f\"{year - TRAINING_YEARS}-01-31\"\n",
    "    TRAINING_END = f\"{year - 1}-12-31\"\n",
    "    TEST_START = f\"{year}-01-31\"\n",
    "    TEST_END = f\"{year}-12-31\"\n",
    "\n",
    "    # Filter the data for the training period\n",
    "    dff = df.loc[TRAINING_START:TRAINING_END].dropna()\n",
    "    X = dff[INPUT_FEATURES + DUMMYS]\n",
    "    y = dff[LABEL]\n",
    "\n",
    "    # Train the model\n",
    "    rf = RandomForestRegressor(n_estimators=100, random_state=42)\n",
    "    rf.fit(X, y.values.ravel())\n",
    "\n",
    "    # Filter the data for the test period\n",
    "    test = df.loc[TEST_START:test_end]\n",
    "    y_pred_z = rf.predict(test[INPUT_FEATURES + DUMMYS])\n",
    "    y_actual = test[LABEL]\n",
    "    y_simple_pred_z = test[SIMPLE_PREDICTION]\n",
    "\n",
    "    # Calculate Mean Squared Error for predictions\n",
    "    mse_rf = mean_squared_error(y_actual, y_pred_z)\n",
    "    mse_simple = mean_squared_error(y_actual, y_simple_pred_z)\n",
    "\n",
    "    # Store results\n",
    "    results.append(\n",
    "        {\n",
    "            \"year\": year,\n",
    "            \"mse_rf\": mse_rf,\n",
    "            \"mse_simple\": mse_simple,\n",
    "        }\n",
    "    )\n",
    "\n",
    "    print(f\"Year: {year}\")\n",
    "    print(f\"Mean Squared Error (RF): {mse_rf}\")\n",
    "    print(f\"Mean Squared Error (Simple): {mse_simple}\")\n",
    "\n",
    "results_df = pd.DataFrame(results)"
   ]
  },
  {
   "cell_type": "code",
   "execution_count": 13,
   "metadata": {},
   "outputs": [
    {
     "data": {
      "text/plain": [
       "<Axes: xlabel='year'>"
      ]
     },
     "execution_count": 13,
     "metadata": {},
     "output_type": "execute_result"
    },
    {
     "data": {
      "image/png": "[encoded data removed]",
      "text/plain": [
       "<Figure size 640x480 with 1 Axes>"
      ]
     },
     "metadata": {},
     "output_type": "display_data"
    }
   ],
   "source": [
    "results_df.set_index(\"year\").plot(kind=\"bar\")"
   ]
  }
 ],
 "metadata": {
  "kernelspec": {
   "display_name": "portfolio-optimization-_HjJy9gg-py3.10",
   "language": "python",
   "name": "python3"
  },
  "language_info": {
   "codemirror_mode": {
    "name": "ipython",
    "version": 3
   },
   "file_extension": ".py",
   "mimetype": "text/x-python",
   "name": "python",
   "nbconvert_exporter": "python",
   "pygments_lexer": "ipython3",
   "version": "3.10.10"
  }
 },
 "nbformat": 4,
 "nbformat_minor": 2
}
