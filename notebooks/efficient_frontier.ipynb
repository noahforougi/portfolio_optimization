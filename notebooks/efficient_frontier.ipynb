{
 "cells": [
  {
   "cell_type": "code",
   "execution_count": 9,
   "metadata": {},
   "outputs": [
    {
     "data": {
      "text/plain": [
       "<module 'pypfopt.plotting' from '/Users/noahforougi/Library/Caches/pypoetry/virtualenvs/portfolio-optimization-_HjJy9gg-py3.10/lib/python3.10/site-packages/pypfopt/plotting.py'>"
      ]
     },
     "execution_count": 9,
     "metadata": {},
     "output_type": "execute_result"
    }
   ],
   "source": [
    "import pandas as pd\n",
    "import numpy as np\n",
    "import yfinance as yf\n",
    "from scipy.optimize import minimize\n",
    "import matplotlib.pyplot as plt\n",
    "from pypfopt import EfficientFrontier\n",
    "from pypfopt import risk_models\n",
    "from pypfopt import expected_returns\n",
    "import seaborn as sns\n",
    "from pypfopt import plotting\n",
    "from importlib import reload\n",
    "\n",
    "reload(plotting)"
   ]
  },
  {
   "cell_type": "code",
   "execution_count": 19,
   "metadata": {},
   "outputs": [
    {
     "data": {
      "text/html": [
       "<div>\n",
       "<style scoped>\n",
       "    .dataframe tbody tr th:only-of-type {\n",
       "        vertical-align: middle;\n",
       "    }\n",
       "\n",
       "    .dataframe tbody tr th {\n",
       "        vertical-align: top;\n",
       "    }\n",
       "\n",
       "    .dataframe thead th {\n",
       "        text-align: right;\n",
       "    }\n",
       "</style>\n",
       "<table border=\"1\" class=\"dataframe\">\n",
       "  <thead>\n",
       "    <tr style=\"text-align: right;\">\n",
       "      <th></th>\n",
       "      <th>amzn</th>\n",
       "      <th>cost</th>\n",
       "      <th>ko</th>\n",
       "      <th>ma</th>\n",
       "      <th>msft</th>\n",
       "    </tr>\n",
       "    <tr>\n",
       "      <th>date</th>\n",
       "      <th></th>\n",
       "      <th></th>\n",
       "      <th></th>\n",
       "      <th></th>\n",
       "      <th></th>\n",
       "    </tr>\n",
       "  </thead>\n",
       "  <tbody>\n",
       "    <tr>\n",
       "      <th>1995-01-03</th>\n",
       "      <td>NaN</td>\n",
       "      <td>4.335104</td>\n",
       "      <td>6.288176</td>\n",
       "      <td>NaN</td>\n",
       "      <td>2.323634</td>\n",
       "    </tr>\n",
       "    <tr>\n",
       "      <th>1995-01-04</th>\n",
       "      <td>NaN</td>\n",
       "      <td>4.419282</td>\n",
       "      <td>6.151476</td>\n",
       "      <td>NaN</td>\n",
       "      <td>2.340524</td>\n",
       "    </tr>\n",
       "    <tr>\n",
       "      <th>1995-01-05</th>\n",
       "      <td>NaN</td>\n",
       "      <td>4.208842</td>\n",
       "      <td>6.121098</td>\n",
       "      <td>NaN</td>\n",
       "      <td>2.301918</td>\n",
       "    </tr>\n",
       "    <tr>\n",
       "      <th>1995-01-06</th>\n",
       "      <td>NaN</td>\n",
       "      <td>4.208842</td>\n",
       "      <td>6.121098</td>\n",
       "      <td>NaN</td>\n",
       "      <td>2.340524</td>\n",
       "    </tr>\n",
       "    <tr>\n",
       "      <th>1995-01-09</th>\n",
       "      <td>NaN</td>\n",
       "      <td>4.208842</td>\n",
       "      <td>6.029965</td>\n",
       "      <td>NaN</td>\n",
       "      <td>2.326046</td>\n",
       "    </tr>\n",
       "    <tr>\n",
       "      <th>...</th>\n",
       "      <td>...</td>\n",
       "      <td>...</td>\n",
       "      <td>...</td>\n",
       "      <td>...</td>\n",
       "      <td>...</td>\n",
       "    </tr>\n",
       "    <tr>\n",
       "      <th>2023-12-22</th>\n",
       "      <td>153.419998</td>\n",
       "      <td>654.652466</td>\n",
       "      <td>57.857216</td>\n",
       "      <td>422.846954</td>\n",
       "      <td>373.215424</td>\n",
       "    </tr>\n",
       "    <tr>\n",
       "      <th>2023-12-26</th>\n",
       "      <td>153.410004</td>\n",
       "      <td>657.596313</td>\n",
       "      <td>58.095314</td>\n",
       "      <td>422.418243</td>\n",
       "      <td>373.295135</td>\n",
       "    </tr>\n",
       "    <tr>\n",
       "      <th>2023-12-27</th>\n",
       "      <td>153.339996</td>\n",
       "      <td>664.754272</td>\n",
       "      <td>58.244122</td>\n",
       "      <td>423.106140</td>\n",
       "      <td>372.707275</td>\n",
       "    </tr>\n",
       "    <tr>\n",
       "      <th>2023-12-28</th>\n",
       "      <td>153.380005</td>\n",
       "      <td>661.065613</td>\n",
       "      <td>58.283806</td>\n",
       "      <td>425.060394</td>\n",
       "      <td>373.912842</td>\n",
       "    </tr>\n",
       "    <tr>\n",
       "      <th>2023-12-29</th>\n",
       "      <td>151.940002</td>\n",
       "      <td>658.054871</td>\n",
       "      <td>58.462376</td>\n",
       "      <td>425.249817</td>\n",
       "      <td>374.670074</td>\n",
       "    </tr>\n",
       "  </tbody>\n",
       "</table>\n",
       "<p>7300 rows × 5 columns</p>\n",
       "</div>"
      ],
      "text/plain": [
       "                  amzn        cost         ko          ma        msft\n",
       "date                                                                 \n",
       "1995-01-03         NaN    4.335104   6.288176         NaN    2.323634\n",
       "1995-01-04         NaN    4.419282   6.151476         NaN    2.340524\n",
       "1995-01-05         NaN    4.208842   6.121098         NaN    2.301918\n",
       "1995-01-06         NaN    4.208842   6.121098         NaN    2.340524\n",
       "1995-01-09         NaN    4.208842   6.029965         NaN    2.326046\n",
       "...                ...         ...        ...         ...         ...\n",
       "2023-12-22  153.419998  654.652466  57.857216  422.846954  373.215424\n",
       "2023-12-26  153.410004  657.596313  58.095314  422.418243  373.295135\n",
       "2023-12-27  153.339996  664.754272  58.244122  423.106140  372.707275\n",
       "2023-12-28  153.380005  661.065613  58.283806  425.060394  373.912842\n",
       "2023-12-29  151.940002  658.054871  58.462376  425.249817  374.670074\n",
       "\n",
       "[7300 rows x 5 columns]"
      ]
     },
     "execution_count": 19,
     "metadata": {},
     "output_type": "execute_result"
    }
   ],
   "source": [
    "prices = (\n",
    "    pd.read_csv(\"../data/prices.csv\")\n",
    "    .rename(columns=str.lower)\n",
    "    .assign(date=lambda x: pd.to_datetime(x.date))\n",
    "    .set_index(\"date\")\n",
    ")\n",
    "prices"
   ]
  },
  {
   "cell_type": "markdown",
   "metadata": {},
   "source": [
    "# Efficient Frontier \n",
    "\n",
    "- Compute the efficient frontier \n",
    "    - Do with PyPortfolioOpt \n",
    "    - Do manually \n",
    "- Add the Max Sharpe portfolio\n"
   ]
  },
  {
   "cell_type": "code",
   "execution_count": 22,
   "metadata": {},
   "outputs": [],
   "source": [
    "sample_cov = risk_models.sample_cov(prices, frequency=252)\n",
    "mu = expected_returns.mean_historical_return(prices, frequency=252)\n",
    "ef = EfficientFrontier(mu, sample_cov)"
   ]
  },
  {
   "cell_type": "code",
   "execution_count": 23,
   "metadata": {},
   "outputs": [
    {
     "data": {
      "text/plain": [
       "<Axes: xlabel='Volatility', ylabel='Return'>"
      ]
     },
     "execution_count": 23,
     "metadata": {},
     "output_type": "execute_result"
    },
    {
     "data": {
      "image/png": "[encoded data removed]",
      "text/plain": [
       "<Figure size 640x480 with 1 Axes>"
      ]
     },
     "metadata": {},
     "output_type": "display_data"
    }
   ],
   "source": [
    "plotting.plot_efficient_frontier(ef)"
   ]
  },
  {
   "cell_type": "markdown",
   "metadata": {},
   "source": [
    "# Enhancing Inputs for MVO"
   ]
  },
  {
   "cell_type": "markdown",
   "metadata": {},
   "source": [
    "#### 1. Using RF for Expected Returns "
   ]
  },
  {
   "cell_type": "markdown",
   "metadata": {},
   "source": [
    "#### 2. Using XGBoost for Expected Returns"
   ]
  },
  {
   "cell_type": "markdown",
   "metadata": {},
   "source": [
    "# Efficient Frontier with Varying Inputs"
   ]
  },
  {
   "cell_type": "code",
   "execution_count": null,
   "metadata": {},
   "outputs": [],
   "source": []
  }
 ],
 "metadata": {
  "kernelspec": {
   "display_name": "portfolio-optimization-_HjJy9gg-py3.10",
   "language": "python",
   "name": "python3"
  },
  "language_info": {
   "codemirror_mode": {
    "name": "ipython",
    "version": 3
   },
   "file_extension": ".py",
   "mimetype": "text/x-python",
   "name": "python",
   "nbconvert_exporter": "python",
   "pygments_lexer": "ipython3",
   "version": "3.10.10"
  }
 },
 "nbformat": 4,
 "nbformat_minor": 2
}
