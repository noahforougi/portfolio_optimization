{
 "cells": [
  {
   "cell_type": "code",
   "execution_count": null,
   "metadata": {},
   "outputs": [],
   "source": [
    "from dotenv import load_dotenv\n",
    "from alpha_vantage.timeseries import TimeSeries\n",
    "from alpha_vantage.fundamentaldata import FundamentalData\n",
    "import pandas as pd\n",
    "import os\n",
    "import threading\n",
    "\n",
    "api_key = os.getenv(\"ALPHA_VANTAGE_KEY\")\n",
    "\n",
    "ts = TimeSeries(key=api_key, output_format=\"pandas\")\n",
    "fd = FundamentalData(key=api_key, output_format=\"pandas\")"
   ]
  },
  {
   "cell_type": "code",
   "execution_count": 21,
   "metadata": {},
   "outputs": [],
   "source": [
    "tickers = [\"AMZN\"]"
   ]
  },
  {
   "cell_type": "code",
   "execution_count": null,
   "metadata": {},
   "outputs": [],
   "source": [
    "data_dict = {}  # Dictionary to store the data for each ticker\n",
    "\n",
    "\n",
    "def fetch_data(ticker):\n",
    "    data, meta_data = ts.get_daily(symbol=ticker, outputsize=\"full\")\n",
    "    data_dict[ticker] = data\n",
    "\n",
    "\n",
    "threads = list()\n",
    "for ticker in tickers:\n",
    "    ticker_thread = threading.Thread(target=fetch_data, args=(ticker,))\n",
    "    threads.append(ticker_thread)\n",
    "    ticker_thread.start()\n",
    "\n",
    "for tick_thread in threads:\n",
    "    tick_thread.join()"
   ]
  },
  {
   "cell_type": "code",
   "execution_count": null,
   "metadata": {},
   "outputs": [],
   "source": [
    "symbol = \"AAPL\"\n",
    "prices, _ = ts.get_daily(symbol=symbol, outputsize=\"full\")"
   ]
  },
  {
   "cell_type": "code",
   "execution_count": null,
   "metadata": {},
   "outputs": [],
   "source": [
    "overview, _ = fd.get_company_overview(symbol)"
   ]
  },
  {
   "cell_type": "code",
   "execution_count": null,
   "metadata": {},
   "outputs": [],
   "source": [
    "bs = fd.get_balance_sheet_quarterly(symbol)[0]"
   ]
  },
  {
   "cell_type": "code",
   "execution_count": null,
   "metadata": {},
   "outputs": [],
   "source": [
    "bs"
   ]
  },
  {
   "cell_type": "code",
   "execution_count": null,
   "metadata": {},
   "outputs": [],
   "source": [
    "# Fetch fundamental data\n",
    "overview, _ = fd.get_company_overview(symbol)\n",
    "\n",
    "# Combine the data\n",
    "# Reshape the fundamental data to match the daily data index\n",
    "overview = overview.T\n",
    "overview.columns = [symbol]\n",
    "fundamental_data = pd.concat([daily_data, overview], axis=1)\n",
    "\n",
    "# Save to a CSV file\n",
    "fundamental_data.to_csv(f\"{symbol}_daily_fundamental_data.csv\")\n",
    "\n",
    "print(fundamental_data.head())"
   ]
  },
  {
   "cell_type": "code",
   "execution_count": 19,
   "metadata": {},
   "outputs": [
    {
     "name": "stderr",
     "output_type": "stream",
     "text": [
      "[*********************100%%**********************]  30 of 30 completed\n",
      "[********************************147%%**********************************]  44 of 30 completed/var/folders/h6/x8xtcdbj30q6yb889t6pcbq00000gn/T/ipykernel_70470/3262590787.py:52: FutureWarning: The behavior of DataFrame concatenation with empty or all-NA entries is deprecated. In a future version, this will no longer exclude empty or all-NA columns when determining the result dtypes. To retain the old behavior, exclude the relevant entries before the concat operation.\n",
      "  info_df = pd.concat(info_list, ignore_index=True)\n"
     ]
    }
   ],
   "source": [
    "import yfinance as yf\n",
    "import pandas as pd\n",
    "import config\n",
    "\n",
    "\n",
    "def pull_prices():\n",
    "    data = yf.download(config.TICKERS, start=config.START_DATE, end=config.END_DATE)[\n",
    "        \"Adj Close\"\n",
    "    ].reset_index()\n",
    "    return data\n",
    "\n",
    "\n",
    "def pull_fundamental_data(ticker):\n",
    "    stock = yf.Ticker(ticker)\n",
    "\n",
    "    # Extract fundamental data (quarterly)\n",
    "    info = stock.info\n",
    "    financials = stock.quarterly_financials\n",
    "    balance_sheet = stock.quarterly_balance_sheet\n",
    "    cash_flow = stock.quarterly_cashflow\n",
    "\n",
    "    # Create DataFrames for each type of fundamental data\n",
    "    info_df = pd.DataFrame([info])\n",
    "    info_df[\"ticker\"] = ticker  # Add ticker identifier\n",
    "\n",
    "    financials_df = financials.T.reset_index()\n",
    "    financials_df[\"ticker\"] = ticker  # Add ticker identifier\n",
    "\n",
    "    balance_sheet_df = balance_sheet.T.reset_index()\n",
    "    balance_sheet_df[\"ticker\"] = ticker  # Add ticker identifier\n",
    "\n",
    "    cash_flow_df = cash_flow.T.reset_index()\n",
    "    cash_flow_df[\"ticker\"] = ticker  # Add ticker identifier\n",
    "\n",
    "    return info_df, financials_df, balance_sheet_df, cash_flow_df\n",
    "\n",
    "\n",
    "def create_full_dataset():\n",
    "    # Pull stock prices\n",
    "    prices_df = pull_prices()\n",
    "\n",
    "    # Initialize lists to store fundamental data\n",
    "    info_list = []\n",
    "    financials_list = []\n",
    "    balance_sheet_list = []\n",
    "    cash_flow_list = []\n",
    "\n",
    "    # Pull fundamental data for each ticker\n",
    "    for ticker in config.TICKERS:\n",
    "        info_df, financials_df, balance_sheet_df, cash_flow_df = pull_fundamental_data(\n",
    "            ticker\n",
    "        )\n",
    "        info_list.append(info_df)\n",
    "        financials_list.append(financials_df)\n",
    "        balance_sheet_list.append(balance_sheet_df)\n",
    "        cash_flow_list.append(cash_flow_df)\n",
    "\n",
    "    # Concatenate all fundamental data into single DataFrames\n",
    "    info_df = pd.concat(info_list, ignore_index=True)\n",
    "    financials_df = pd.concat(financials_list, ignore_index=True)\n",
    "    balance_sheet_df = pd.concat(balance_sheet_list, ignore_index=True)\n",
    "    cash_flow_df = pd.concat(cash_flow_list, ignore_index=True)\n",
    "\n",
    "    # Merge all DataFrames into a single dataset\n",
    "    full_dataset = {\n",
    "        \"prices\": prices_df,\n",
    "        \"info\": info_df,\n",
    "        \"financials\": financials_df,\n",
    "        \"balance_sheet\": balance_sheet_df,\n",
    "        \"cash_flow\": cash_flow_df,\n",
    "    }\n",
    "\n",
    "    return full_dataset\n",
    "\n",
    "\n",
    "# Example usage\n",
    "full_dataset = create_full_dataset()\n",
    "\n",
    "# Access the different parts of the dataset\n",
    "prices_df = full_dataset[\"prices\"]\n",
    "info_df = full_dataset[\"info\"]\n",
    "financials_df = full_dataset[\"financials\"]\n",
    "balance_sheet_df = full_dataset[\"balance_sheet\"]\n",
    "cash_flow_df = full_dataset[\"cash_flow\"]"
   ]
  },
  {
   "cell_type": "code",
   "execution_count": 20,
   "metadata": {},
   "outputs": [
    {
     "data": {
      "text/html": [
       "<div>\n",
       "<style scoped>\n",
       "    .dataframe tbody tr th:only-of-type {\n",
       "        vertical-align: middle;\n",
       "    }\n",
       "\n",
       "    .dataframe tbody tr th {\n",
       "        vertical-align: top;\n",
       "    }\n",
       "\n",
       "    .dataframe thead th {\n",
       "        text-align: right;\n",
       "    }\n",
       "</style>\n",
       "<table border=\"1\" class=\"dataframe\">\n",
       "  <thead>\n",
       "    <tr style=\"text-align: right;\">\n",
       "      <th></th>\n",
       "      <th>ticker</th>\n",
       "      <th>index</th>\n",
       "      <th>Total Debt</th>\n",
       "    </tr>\n",
       "  </thead>\n",
       "  <tbody>\n",
       "    <tr>\n",
       "      <th>0</th>\n",
       "      <td>AAPL</td>\n",
       "      <td>2024-03-31</td>\n",
       "      <td>104590000000.0</td>\n",
       "    </tr>\n",
       "    <tr>\n",
       "      <th>1</th>\n",
       "      <td>AAPL</td>\n",
       "      <td>2023-12-31</td>\n",
       "      <td>108040000000.0</td>\n",
       "    </tr>\n",
       "    <tr>\n",
       "      <th>2</th>\n",
       "      <td>AAPL</td>\n",
       "      <td>2023-09-30</td>\n",
       "      <td>111088000000.0</td>\n",
       "    </tr>\n",
       "    <tr>\n",
       "      <th>3</th>\n",
       "      <td>AAPL</td>\n",
       "      <td>2023-06-30</td>\n",
       "      <td>109280000000.0</td>\n",
       "    </tr>\n",
       "    <tr>\n",
       "      <th>4</th>\n",
       "      <td>AAPL</td>\n",
       "      <td>2023-03-31</td>\n",
       "      <td>109615000000.0</td>\n",
       "    </tr>\n",
       "    <tr>\n",
       "      <th>5</th>\n",
       "      <td>AAPL</td>\n",
       "      <td>2022-12-31</td>\n",
       "      <td>NaN</td>\n",
       "    </tr>\n",
       "  </tbody>\n",
       "</table>\n",
       "</div>"
      ],
      "text/plain": [
       "  ticker      index      Total Debt\n",
       "0   AAPL 2024-03-31  104590000000.0\n",
       "1   AAPL 2023-12-31  108040000000.0\n",
       "2   AAPL 2023-09-30  111088000000.0\n",
       "3   AAPL 2023-06-30  109280000000.0\n",
       "4   AAPL 2023-03-31  109615000000.0\n",
       "5   AAPL 2022-12-31             NaN"
      ]
     },
     "execution_count": 20,
     "metadata": {},
     "output_type": "execute_result"
    }
   ],
   "source": [
    "balance_sheet_df[[\"ticker\", \"index\", \"Total Debt\"]].loc[lambda x: x.ticker == \"AAPL\"]"
   ]
  }
 ],
 "metadata": {
  "kernelspec": {
   "display_name": "portfolio-optimization-_HjJy9gg-py3.10",
   "language": "python",
   "name": "python3"
  },
  "language_info": {
   "codemirror_mode": {
    "name": "ipython",
    "version": 3
   },
   "file_extension": ".py",
   "mimetype": "text/x-python",
   "name": "python",
   "nbconvert_exporter": "python",
   "pygments_lexer": "ipython3",
   "version": "3.10.10"
  }
 },
 "nbformat": 4,
 "nbformat_minor": 2
}
